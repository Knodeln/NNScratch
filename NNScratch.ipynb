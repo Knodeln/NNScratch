{
 "cells": [
  {
   "cell_type": "code",
   "execution_count": 2,
   "id": "f3148aa9",
   "metadata": {},
   "outputs": [],
   "source": [
    "import numpy as np\n",
    "import matplotlib.pyplot as plt\n",
    "from tqdm import tqdm\n",
    "\n",
    "%matplotlib inline\n",
    "%config InlineBackend.figure_format = 'retina'"
   ]
  },
  {
   "cell_type": "code",
   "execution_count": 3,
   "id": "812d847d",
   "metadata": {},
   "outputs": [
    {
     "name": "stdout",
     "output_type": "stream",
     "text": [
      "dict_keys(['data', 'target', 'frame', 'categories', 'feature_names', 'target_names', 'DESCR', 'details', 'url'])\n"
     ]
    }
   ],
   "source": [
    "from sklearn.datasets import fetch_openml\n",
    "mnist = fetch_openml(name=\"mnist_784\")\n",
    "\n",
    "print(mnist.keys())\n",
    "\n",
    "data = mnist.data\n",
    "labels = mnist.target\n"
   ]
  },
  {
   "cell_type": "code",
   "execution_count": 4,
   "id": "29763020",
   "metadata": {},
   "outputs": [
    {
     "name": "stdout",
     "output_type": "stream",
     "text": [
      "(784,)\n",
      "Image label: 1\n"
     ]
    },
    {
     "name": "stderr",
     "output_type": "stream",
     "text": [
      "C:\\Users\\Lukas\\AppData\\Local\\Temp\\ipykernel_11036\\3189213581.py:8: DeprecationWarning: Conversion of an array with ndim > 0 to a scalar is deprecated, and will error in future. Ensure you extract a single element from your array before performing this operation. (Deprecated NumPy 1.25.)\n",
      "  side_length = int(np.sqrt(test_img.shape))\n"
     ]
    },
    {
     "data": {
      "image/png": "[encoded data removed]",
      "text/plain": [
       "<Figure size 640x480 with 1 Axes>"
      ]
     },
     "metadata": {
      "image/png": {
       "height": 389,
       "width": 389
      }
     },
     "output_type": "display_data"
    }
   ],
   "source": [
    "n = np.random.choice(np.arange(data.shape[0]+1))\n",
    "\n",
    "test_img = data.iloc[n].values\n",
    "test_label = mnist.target.iloc[n]\n",
    "\n",
    "print(test_img.shape)\n",
    "\n",
    "side_length = int(np.sqrt(test_img.shape))\n",
    "reshaped_test_img = test_img.reshape(side_length, side_length)\n",
    "\n",
    "print(\"Image label: \" + str(test_label))\n",
    "\n",
    "plt.imshow(reshaped_test_img, cmap=\"Greys\")\n",
    "plt.axis('off')\n",
    "plt.show()"
   ]
  },
  {
   "cell_type": "code",
   "execution_count": 5,
   "id": "08b81f4c",
   "metadata": {},
   "outputs": [
    {
     "name": "stdout",
     "output_type": "stream",
     "text": [
      "(70000, 4)\n",
      "(70000, 10)\n"
     ]
    }
   ],
   "source": [
    "w1 = np.ones((784, 4)) * 0.01\n",
    "z1 = np.dot(data, w1)\n",
    "print(z1.shape)\n",
    "\n",
    "w2 = np.ones((4, 10))\n",
    "z2 = np.dot(z1, w2)\n",
    "print(z2.shape)"
   ]
  },
  {
   "cell_type": "code",
   "execution_count": 5,
   "id": "830c13f5",
   "metadata": {},
   "outputs": [],
   "source": [
    "# Activation functions\n",
    "\n",
    "def sigmoid(x: np.ndarray) -> np.ndarray:\n",
    "    return 1.0 / (1.0 + np.exp(-x))\n",
    "\n",
    "def relu(x: np.ndarray) -> np.ndarray:\n",
    "    return np.maximum(0, x)\n",
    "\n",
    "def tanh(x: np.ndarray) -> np.ndarray:\n",
    "    return np.tanh(x)\n",
    "\n",
    "def leaky_relu(z: np.ndarray) -> np.ndarray:\n",
    "    return np.where(z > 0, z, z * 0.01)"
   ]
  },
  {
   "cell_type": "code",
   "execution_count": 6,
   "id": "e2170e5e",
   "metadata": {},
   "outputs": [],
   "source": [
    "def softmax(z: np.ndarray) -> np.ndarray:\n",
    "    e = np.exp(z - np.max(z))\n",
    "    return e / np.sum(e, axis=0)"
   ]
  },
  {
   "cell_type": "code",
   "execution_count": 7,
   "id": "1e6ad1cf",
   "metadata": {},
   "outputs": [],
   "source": [
    "def normalize(x: np.ndarray) -> np.ndarray:\n",
    "    return (x - np.min(x)) / (np.max(x) - np.min(x))"
   ]
  },
  {
   "cell_type": "code",
   "execution_count": 8,
   "id": "5a7e2628",
   "metadata": {},
   "outputs": [],
   "source": [
    "def one_hot_encode(x: np.ndarray, num_labels: int) -> np.ndarray:\n",
    "    return np.eye(num_labels)[x]"
   ]
  },
  {
   "cell_type": "code",
   "execution_count": 9,
   "id": "ce21f9d2",
   "metadata": {},
   "outputs": [],
   "source": [
    "def derivative(function_name: str, z: np.ndarray) -> np.ndarray:\n",
    "    if function_name == \"sigmoid\":\n",
    "        return sigmoid(z) * (1 - sigmoid(z))\n",
    "    if function_name == \"tanh\":\n",
    "        return 1 - np.square(tanh(z))\n",
    "    if function_name == \"relu\":\n",
    "        y = (z > 0) * 1\n",
    "        return y\n",
    "    if function_name == \"leaky_relu\":\n",
    "        return  np.where(z > 0, 1, 0.01)\n",
    "    return \"No such activation\""
   ]
  },
  {
   "cell_type": "code",
   "execution_count": 10,
   "id": "9c1087a6",
   "metadata": {},
   "outputs": [],
   "source": [
    "class NN(object):\n",
    "    def __init__(self, X: np.ndarray, y: np.ndarray, X_test: np.ndarray, y_test: np.ndarray, activation: str, num_labels: int, architecture: list[int]):\n",
    "        self.X = normalize(X) # normalize training data in range 0,1\n",
    "        assert np.all((self.X >= 0) | (self.X <= 1)) # test that normalize succeded\n",
    "        self.X, self.X_test = X.copy(), X_test.copy()\n",
    "        self.y, self.y_test = y.copy(), y_test.copy()\n",
    "        self.layers = {} # define dict to store results of activation\n",
    "        self.architecture = architecture # size of hidden layers as array  \n",
    "        self.activation = activation # activation function\n",
    "        assert self.activation in [\"relu\", \"tanh\", \"sigmoid\", \"leaky_relu\"]\n",
    "        self.parameters = {}\n",
    "        self.num_labels = num_labels\n",
    "        self.m = X.shape[1]\n",
    "        self.architecture.append(self.num_labels)\n",
    "        self.num_input_features = X.shape[0]\n",
    "        self.architecture.insert(0, self.num_input_features)\n",
    "        self.L = len(architecture) \n",
    "        assert self.X.shape == (self.num_input_features, self.m)\n",
    "        assert self.y.shape == (self.num_labels, self.m)\n",
    "        \n",
    "    def initialize_parameters(self):\n",
    "        if self.activation == \"relus\":\n",
    "            print(f\"Initializing parameters for layer: {i} (He initialization).\")\n",
    "\n",
    "            fan_in = self.architecture[i - 1]  # number of inputs to layer i\n",
    "\n",
    "            self.parameters[\"w\" + str(i)] = (\n",
    "                np.random.randn(self.architecture[i], fan_in) * np.sqrt(2.0 / fan_in)\n",
    "            )\n",
    "            self.parameters[\"b\" + str(i)] = np.zeros((self.architecture[i], 1))\n",
    "            \n",
    "            return\n",
    "        \n",
    "        for i in range(1, self.L):\n",
    "            print(f\"Initializing parameters for layer: {i}.\")\n",
    "            self.parameters[\"w\"+str(i)] = np.random.randn(self.architecture[i], self.architecture[i-1]) * 0.01\n",
    "            self.parameters[\"b\"+str(i)] = np.zeros((self.architecture[i], 1))\n",
    "            \n",
    "    def forward(self):\n",
    "        params=self.parameters\n",
    "        self.layers[\"a0\"] = self.X\n",
    "        for l in range(1, self.L-1):\n",
    "            self.layers[\"z\" + str(l)] = np.dot(params[\"w\" + str(l)], \n",
    "                                               self.layers[\"a\"+str(l-1)]) + params[\"b\"+str(l)]\n",
    "            self.layers[\"a\" + str(l)] = eval(self.activation)(self.layers[\"z\"+str(l)])\n",
    "            assert self.layers[\"a\"+str(l)].shape == (self.architecture[l], self.m)\n",
    "        self.layers[\"z\" + str(self.L-1)] = np.dot(params[\"w\" + str(self.L-1)],\n",
    "                                                  self.layers[\"a\"+str(self.L-2)]) + params[\"b\"+str(self.L-1)]\n",
    "        self.layers[\"a\"+str(self.L-1)] = softmax(self.layers[\"z\"+str(self.L-1)])\n",
    "        self.output = self.layers[\"a\"+str(self.L-1)]\n",
    "        assert self.output.shape == (self.num_labels, self.m)\n",
    "        assert all([s for s in np.sum(self.output, axis=1)])        \n",
    "        \n",
    "        cost = - np.sum(self.y * np.log(self.output + 0.000000001))\n",
    "\n",
    "        return cost, self.layers\n",
    "    \n",
    "    def backpropagate(self):\n",
    "        derivatives = {}\n",
    "        dZ = self.output - self.y\n",
    "        assert dZ.shape == (self.num_labels, self.m)\n",
    "        dW = np.dot(dZ, self.layers[\"a\" + str(self.L-2)].T) / self.m\n",
    "        dB = np.sum(dZ, keepdims=True) / self.m\n",
    "        dAPrev = np.dot(self.parameters[\"w\" + str(self.L-1)].T, dZ)\n",
    "        derivatives[\"dW\" + str(self.L-1)] = dW\n",
    "        derivatives[\"db\" + str(self.L-1)] = dB\n",
    "            \n",
    "        for i in range(self.L - 2, 0, -1):\n",
    "            dZ = dAPrev * derivative(self.activation, self.layers[\"z\" + str(i)])\n",
    "            dW = 1. / self.m * np.dot(dZ, self.layers[\"a\" + str(i-1)].T)\n",
    "            dB = 1. / self.m * np.sum(dZ, axis=1, keepdims=True)\n",
    "            if i > 1:\n",
    "                dAPrev = np.dot(self.parameters[\"w\" + str(i)].T, (dZ))\n",
    "            derivatives[\"dW\" + str(i)] = dW\n",
    "            derivatives[\"db\" + str(i)] = dB\n",
    "        self.derivates = derivatives\n",
    "        \n",
    "        return self.derivates\n",
    "    \n",
    "    \n",
    "    def fit(self, lr=0.01, epochs=1000):\n",
    "        self.costs = [] \n",
    "        self.initialize_parameters()\n",
    "        self.accuracies = {\"train\": [], \"test\": []}\n",
    "        for epoch in tqdm(range(epochs), colour=\"BLUE\"):\n",
    "            cost, cache = self.forward()\n",
    "            self.costs.append(cost)\n",
    "            derivatives = self.backpropagate()            \n",
    "            for layer in range(1, self.L):\n",
    "                self.parameters[\"w\"+str(layer)] = self.parameters[\"w\"+str(layer)] - lr * derivatives[\"dW\" + str(layer)]\n",
    "                self.parameters[\"b\"+str(layer)] = self.parameters[\"b\"+str(layer)] - lr * derivatives[\"db\" + str(layer)]            \n",
    "            train_accuracy = self.accuracy(self.X, self.y)\n",
    "            test_accuracy = self.accuracy(self.X_test, self.y_test)\n",
    "            if epoch % 10 == 0:\n",
    "                print(f\"Epoch: {epoch:3d} | Cost: {cost:.3f} | Accuracy: {train_accuracy:.3f}\")\n",
    "            self.accuracies[\"train\"].append(train_accuracy)\n",
    "            self.accuracies[\"test\"].append(test_accuracy)\n",
    "        print(\"Training terminated\")\n",
    "        \n",
    "        \n",
    "    \n",
    "    def predict(self, x):\n",
    "        params = self.parameters\n",
    "        n_layers = self.L - 1\n",
    "        values = [x]\n",
    "        for l in range(1, n_layers):\n",
    "            z = np.dot(params[\"w\" + str(l)], values[l-1]) + params[\"b\" + str(l)]\n",
    "            a = eval(self.activation)(z)\n",
    "            values.append(a)\n",
    "        z = np.dot(params[\"w\"+str(n_layers)], values[n_layers-1]) + params[\"b\"+str(n_layers)]\n",
    "        a = softmax(z)\n",
    "        if x.shape[1]>1:\n",
    "            ans = np.argmax(a, axis=0)\n",
    "        else:\n",
    "            ans = np.argmax(a)\n",
    "        return ans\n",
    "    \n",
    "    \n",
    "    def accuracy(self, X, y):\n",
    "        P = self.predict(X)\n",
    "        return sum(np.equal(P, np.argmax(y, axis=0))) / y.shape[1]*100\n",
    "    \n",
    "    def plot_cost(self, lr):\n",
    "        plt.figure(figsize=(8, 4))\n",
    "        plt.plot(np.arange(0, len(self.costs)), self.costs, lw=1, color=\"orange\")\n",
    "        plt.title(f\"Learning rate: {lr}\\nFinal Cost: {self.costs[-1]:.5f}\", fontdict={\n",
    "        \"family\":\"sans-serif\", \n",
    "        \"size\": \"12\"})\n",
    "        plt.xlabel(\"Epoch\")\n",
    "        plt.ylabel(\"Cost\")\n",
    "        plt.show()\n",
    "    \n",
    "            "
   ]
  },
  {
   "cell_type": "code",
   "execution_count": 11,
   "id": "085bc535",
   "metadata": {},
   "outputs": [
    {
     "data": {
      "text/plain": [
       "((784, 60000), (784, 10000))"
      ]
     },
     "execution_count": 11,
     "metadata": {},
     "output_type": "execute_result"
    }
   ],
   "source": [
    "# import pickle\n",
    "\n",
    "\n",
    "# with open(\"mnist.pickle\", 'rb') as f:\n",
    "#     mnist = pickle.load(f)\n",
    "# data = mnist.data\n",
    "# labels = mnist.target\n",
    "\n",
    "train_test_split_no = 60000\n",
    "X_train = data.values[:train_test_split_no].T\n",
    "y_train = labels[:train_test_split_no].values.astype(int)\n",
    "y_train = one_hot_encode(y_train, 10).T\n",
    "X_test = data.values[train_test_split_no:].T\n",
    "y_test = labels[train_test_split_no:].values.astype(int)\n",
    "y_test = one_hot_encode(y_test, 10).T\n",
    "X_train.shape, X_test.shape"
   ]
  },
  {
   "cell_type": "code",
   "execution_count": 12,
   "id": "98638a67",
   "metadata": {},
   "outputs": [
    {
     "name": "stdout",
     "output_type": "stream",
     "text": [
      "Initializing parameters for layer: 1.\n",
      "Initializing parameters for layer: 2.\n",
      "Initializing parameters for layer: 3.\n"
     ]
    },
    {
     "name": "stderr",
     "output_type": "stream",
     "text": [
      "  1%|\u001b[34m          \u001b[0m| 1/100 [00:00<01:33,  1.06it/s]"
     ]
    },
    {
     "name": "stdout",
     "output_type": "stream",
     "text": [
      "Epoch:   0 | Cost: 138887.918 | Accuracy: 8.293\n"
     ]
    },
    {
     "name": "stderr",
     "output_type": "stream",
     "text": [
      " 11%|\u001b[34m█         \u001b[0m| 11/100 [00:10<01:22,  1.08it/s]"
     ]
    },
    {
     "name": "stdout",
     "output_type": "stream",
     "text": [
      "Epoch:  10 | Cost: 135704.336 | Accuracy: 24.395\n"
     ]
    },
    {
     "name": "stderr",
     "output_type": "stream",
     "text": [
      " 21%|\u001b[34m██        \u001b[0m| 21/100 [00:19<01:12,  1.09it/s]"
     ]
    },
    {
     "name": "stdout",
     "output_type": "stream",
     "text": [
      "Epoch:  20 | Cost: 131076.807 | Accuracy: 36.297\n"
     ]
    },
    {
     "name": "stderr",
     "output_type": "stream",
     "text": [
      " 31%|\u001b[34m███       \u001b[0m| 31/100 [00:28<01:02,  1.11it/s]"
     ]
    },
    {
     "name": "stdout",
     "output_type": "stream",
     "text": [
      "Epoch:  30 | Cost: 122822.533 | Accuracy: 45.037\n"
     ]
    },
    {
     "name": "stderr",
     "output_type": "stream",
     "text": [
      " 41%|\u001b[34m████      \u001b[0m| 41/100 [00:37<00:52,  1.12it/s]"
     ]
    },
    {
     "name": "stdout",
     "output_type": "stream",
     "text": [
      "Epoch:  40 | Cost: 109716.251 | Accuracy: 56.680\n"
     ]
    },
    {
     "name": "stderr",
     "output_type": "stream",
     "text": [
      " 51%|\u001b[34m█████     \u001b[0m| 51/100 [00:46<00:44,  1.11it/s]"
     ]
    },
    {
     "name": "stdout",
     "output_type": "stream",
     "text": [
      "Epoch:  50 | Cost: 91618.281 | Accuracy: 64.817\n"
     ]
    },
    {
     "name": "stderr",
     "output_type": "stream",
     "text": [
      " 61%|\u001b[34m██████    \u001b[0m| 61/100 [00:55<00:34,  1.13it/s]"
     ]
    },
    {
     "name": "stdout",
     "output_type": "stream",
     "text": [
      "Epoch:  60 | Cost: 72741.974 | Accuracy: 71.512\n"
     ]
    },
    {
     "name": "stderr",
     "output_type": "stream",
     "text": [
      " 71%|\u001b[34m███████   \u001b[0m| 71/100 [01:04<00:25,  1.12it/s]"
     ]
    },
    {
     "name": "stdout",
     "output_type": "stream",
     "text": [
      "Epoch:  70 | Cost: 58491.701 | Accuracy: 76.123\n"
     ]
    },
    {
     "name": "stderr",
     "output_type": "stream",
     "text": [
      " 81%|\u001b[34m████████  \u001b[0m| 81/100 [01:13<00:17,  1.10it/s]"
     ]
    },
    {
     "name": "stdout",
     "output_type": "stream",
     "text": [
      "Epoch:  80 | Cost: 48906.609 | Accuracy: 78.923\n"
     ]
    },
    {
     "name": "stderr",
     "output_type": "stream",
     "text": [
      " 91%|\u001b[34m█████████ \u001b[0m| 91/100 [01:23<00:08,  1.05it/s]"
     ]
    },
    {
     "name": "stdout",
     "output_type": "stream",
     "text": [
      "Epoch:  90 | Cost: 42602.269 | Accuracy: 80.830\n"
     ]
    },
    {
     "name": "stderr",
     "output_type": "stream",
     "text": [
      "100%|\u001b[34m██████████\u001b[0m| 100/100 [01:32<00:00,  1.08it/s]"
     ]
    },
    {
     "name": "stdout",
     "output_type": "stream",
     "text": [
      "Training terminated\n"
     ]
    },
    {
     "name": "stderr",
     "output_type": "stream",
     "text": [
      "\n"
     ]
    },
    {
     "data": {
      "image/png": "[encoded data removed]",
      "text/plain": [
       "<Figure size 800x400 with 1 Axes>"
      ]
     },
     "metadata": {
      "image/png": {
       "height": 411,
       "width": 722
      }
     },
     "output_type": "display_data"
    }
   ],
   "source": [
    "PARAMS = [X_train, y_train, X_test, y_test, \"relu\", 10, [128, 32]]\n",
    "nn_relu = NN(*PARAMS)\n",
    "epochs_relu = 100\n",
    "lr_relu = 0.003\n",
    "nn_relu.fit(lr=lr_relu, epochs=epochs_relu)\n",
    "nn_relu.plot_cost(lr_relu)"
   ]
  },
  {
   "cell_type": "code",
   "execution_count": 31,
   "id": "24ae031e",
   "metadata": {},
   "outputs": [
    {
     "data": {
      "image/png": "[encoded data removed]",
      "text/plain": [
       "<Figure size 640x480 with 1 Axes>"
      ]
     },
     "metadata": {
      "image/png": {
       "height": 410,
       "width": 389
      }
     },
     "output_type": "display_data"
    }
   ],
   "source": [
    "from matplotlib.pylab import randint\n",
    "\n",
    "\n",
    "example_index = randint(1, 6000)\n",
    "plt.imshow(X_test[:, example_index].reshape(28,28), cmap=\"Greys\")\n",
    "prediction = nn_relu.predict(X_test[:, example_index].reshape((X_test.shape[0], 1)))\n",
    "plt.title(\"Prediction: \" + str(prediction))\n",
    "plt.axis('off')\n",
    "plt.show()"
   ]
  }
 ],
 "metadata": {
  "kernelspec": {
   "display_name": ".venv",
   "language": "python",
   "name": "python3"
  },
  "language_info": {
   "codemirror_mode": {
    "name": "ipython",
    "version": 3
   },
   "file_extension": ".py",
   "mimetype": "text/x-python",
   "name": "python",
   "nbconvert_exporter": "python",
   "pygments_lexer": "ipython3",
   "version": "3.11.0"
  }
 },
 "nbformat": 4,
 "nbformat_minor": 5
}
